{
 "cells": [
  {
   "cell_type": "markdown",
   "source": [
    "# 10.3"
   ],
   "metadata": {
    "collapsed": false,
    "pycharm": {
     "name": "#%% md\n"
    }
   }
  },
  {
   "cell_type": "code",
   "source": [
    "import numpy as np\n",
    "\n",
    "mid_scores = np.array([10, 20, 30])\n",
    "final_scores = np.array([60, 70, 80])\n",
    "\n",
    "total = mid_scores + final_scores\n",
    "\n",
    "print(\"시험성적의 합계 :\", total)\n",
    "print(\"시험성적의 평균 :\", total/2)"
   ],
   "metadata": {
    "collapsed": false,
    "pycharm": {
     "name": "#%%\n"
    }
   },
   "execution_count": 2,
   "outputs": [
    {
     "name": "stdout",
     "output_type": "stream",
     "text": [
      "시험성적의 합계 : [ 70  90 110]\n",
      "시험성적의 평균 : [35. 45. 55.]\n"
     ]
    }
   ]
  },
  {
   "cell_type": "markdown",
   "source": [
    "# 10.4"
   ],
   "metadata": {
    "collapsed": false,
    "pycharm": {
     "name": "#%% md\n"
    }
   }
  },
  {
   "cell_type": "code",
   "execution_count": 21,
   "outputs": [
    {
     "name": "stdout",
     "output_type": "stream",
     "text": [
      "Shape (3,)\n",
      "nDim 1\n",
      "dType int32\n",
      "itemSize 4\n",
      "Size 3\n"
     ]
    }
   ],
   "source": [
    "a = np.array([1, 2, 3])\n",
    "\n",
    "print(\"Shape\", a.shape)\n",
    "print(\"nDim\",a.ndim)\n",
    "print(\"dType\",a.dtype)\n",
    "print(\"itemSize\",a.itemsize)\n",
    "print(\"Size\",a.size)"
   ],
   "metadata": {
    "collapsed": false,
    "pycharm": {
     "name": "#%%\n"
    }
   }
  },
  {
   "cell_type": "markdown",
   "source": [
    "# 10.7"
   ],
   "metadata": {
    "collapsed": false,
    "pycharm": {
     "name": "#%% md\n"
    }
   }
  },
  {
   "cell_type": "code",
   "execution_count": 22,
   "outputs": [
    {
     "name": "stdout",
     "output_type": "stream",
     "text": [
      "[False False  True  True  True]\n",
      "[25 30 28]\n"
     ]
    }
   ],
   "source": [
    "ages =np.array([18, 19, 25, 30, 28])\n",
    "\n",
    "y = ages > 20\n",
    "print(y)\n",
    "print(ages[y])"
   ],
   "metadata": {
    "collapsed": false,
    "pycharm": {
     "name": "#%%\n"
    }
   }
  },
  {
   "cell_type": "markdown",
   "source": [
    "# 10.9"
   ],
   "metadata": {
    "collapsed": false,
    "pycharm": {
     "name": "#%% md\n"
    }
   }
  },
  {
   "cell_type": "code",
   "execution_count": 23,
   "outputs": [
    {
     "name": "stdout",
     "output_type": "stream",
     "text": [
      "np_array: [[1 2 3]\n",
      " [4 5 6]\n",
      " [7 8 9]]\n",
      "np_array[0, 2]: 3\n",
      "np_array[0, 0]: 1\n",
      "np_array[2, -1]: 9\n"
     ]
    }
   ],
   "source": [
    "np_array = np.array([[1, 2, 3], [4, 5, 6], [7, 8, 9]])\n",
    "\n",
    "print(\"np_array:\", np_array)\n",
    "print(\"np_array[0, 2]:\", np_array[0, 2])\n",
    "print(\"np_array[0, 0]:\", np_array[0, 0])\n",
    "print(\"np_array[2, -1]:\", np_array[2, -1])\n"
   ],
   "metadata": {
    "collapsed": false,
    "pycharm": {
     "name": "#%%\n"
    }
   }
  },
  {
   "cell_type": "markdown",
   "source": [
    "# 10.10"
   ],
   "metadata": {
    "collapsed": false
   }
  },
  {
   "cell_type": "code",
   "execution_count": 5,
   "outputs": [
    {
     "name": "stdout",
     "output_type": "stream",
     "text": [
      "[[3 4]\n",
      " [7 8]]\n",
      "----------\n",
      "[[1 2 3 4]]\n",
      "[[ 1  3]\n",
      " [ 9 11]]\n"
     ]
    }
   ],
   "source": [
    "np_array = np.array([[1, 2, 3, 4], [5, 6, 7, 8], [9, 10, 11, 12], [13, 14, 15, 16]])\n",
    "\n",
    "print(np_array[0:2, 2:4])\n",
    "print(\"-\" * 10)\n",
    "print(np_array[::2][::2])\n",
    "print(np_array[::2, ::2])"
   ],
   "metadata": {
    "collapsed": false,
    "pycharm": {
     "name": "#%%\n"
    }
   }
  },
  {
   "cell_type": "markdown",
   "source": [
    "# 10.11"
   ],
   "metadata": {
    "collapsed": false
   }
  },
  {
   "cell_type": "code",
   "execution_count": 9,
   "outputs": [
    {
     "data": {
      "text/plain": "array([[False, False, False],\n       [False, False,  True],\n       [ True,  True,  True]])"
     },
     "execution_count": 9,
     "metadata": {},
     "output_type": "execute_result"
    }
   ],
   "source": [
    "np_array = np.array([[1,2,3], [4,5,6], [7,8,9]])\n",
    "np_array > 5"
   ],
   "metadata": {
    "collapsed": false,
    "pycharm": {
     "name": "#%%\n"
    }
   }
  },
  {
   "cell_type": "code",
   "execution_count": 11,
   "outputs": [
    {
     "data": {
      "text/plain": "array([6, 7, 8, 9])"
     },
     "execution_count": 11,
     "metadata": {},
     "output_type": "execute_result"
    }
   ],
   "source": [
    "np_array[ np_array > 5]"
   ],
   "metadata": {
    "collapsed": false,
    "pycharm": {
     "name": "#%%\n"
    }
   }
  },
  {
   "cell_type": "code",
   "execution_count": 12,
   "outputs": [
    {
     "data": {
      "text/plain": "array([3, 6, 9])"
     },
     "execution_count": 12,
     "metadata": {},
     "output_type": "execute_result"
    }
   ],
   "source": [
    "np_array[:, 2]"
   ],
   "metadata": {
    "collapsed": false,
    "pycharm": {
     "name": "#%%\n"
    }
   }
  },
  {
   "cell_type": "code",
   "execution_count": 13,
   "outputs": [
    {
     "data": {
      "text/plain": "array([False,  True,  True])"
     },
     "execution_count": 13,
     "metadata": {},
     "output_type": "execute_result"
    }
   ],
   "source": [
    "np_array[:, 2] > 5"
   ],
   "metadata": {
    "collapsed": false,
    "pycharm": {
     "name": "#%%\n"
    }
   }
  },
  {
   "cell_type": "code",
   "execution_count": 14,
   "outputs": [
    {
     "data": {
      "text/plain": "array([[False,  True, False],\n       [ True, False,  True],\n       [False,  True, False]])"
     },
     "execution_count": 14,
     "metadata": {},
     "output_type": "execute_result"
    }
   ],
   "source": [
    "np_array[:] % 2 == 0"
   ],
   "metadata": {
    "collapsed": false,
    "pycharm": {
     "name": "#%%\n"
    }
   }
  },
  {
   "cell_type": "code",
   "execution_count": 15,
   "outputs": [
    {
     "data": {
      "text/plain": "array([2, 4, 6, 8])"
     },
     "execution_count": 15,
     "metadata": {},
     "output_type": "execute_result"
    }
   ],
   "source": [
    "np_array[np_array % 2 == 0]"
   ],
   "metadata": {
    "collapsed": false,
    "pycharm": {
     "name": "#%%\n"
    }
   }
  },
  {
   "cell_type": "markdown",
   "source": [
    "# 10.13"
   ],
   "metadata": {
    "collapsed": false,
    "pycharm": {
     "name": "#%% md\n"
    }
   }
  },
  {
   "cell_type": "code",
   "execution_count": 33,
   "outputs": [
    {
     "data": {
      "text/plain": "array([ 0.        ,  0.1010101 ,  0.2020202 ,  0.3030303 ,  0.4040404 ,\n        0.50505051,  0.60606061,  0.70707071,  0.80808081,  0.90909091,\n        1.01010101,  1.11111111,  1.21212121,  1.31313131,  1.41414141,\n        1.51515152,  1.61616162,  1.71717172,  1.81818182,  1.91919192,\n        2.02020202,  2.12121212,  2.22222222,  2.32323232,  2.42424242,\n        2.52525253,  2.62626263,  2.72727273,  2.82828283,  2.92929293,\n        3.03030303,  3.13131313,  3.23232323,  3.33333333,  3.43434343,\n        3.53535354,  3.63636364,  3.73737374,  3.83838384,  3.93939394,\n        4.04040404,  4.14141414,  4.24242424,  4.34343434,  4.44444444,\n        4.54545455,  4.64646465,  4.74747475,  4.84848485,  4.94949495,\n        5.05050505,  5.15151515,  5.25252525,  5.35353535,  5.45454545,\n        5.55555556,  5.65656566,  5.75757576,  5.85858586,  5.95959596,\n        6.06060606,  6.16161616,  6.26262626,  6.36363636,  6.46464646,\n        6.56565657,  6.66666667,  6.76767677,  6.86868687,  6.96969697,\n        7.07070707,  7.17171717,  7.27272727,  7.37373737,  7.47474747,\n        7.57575758,  7.67676768,  7.77777778,  7.87878788,  7.97979798,\n        8.08080808,  8.18181818,  8.28282828,  8.38383838,  8.48484848,\n        8.58585859,  8.68686869,  8.78787879,  8.88888889,  8.98989899,\n        9.09090909,  9.19191919,  9.29292929,  9.39393939,  9.49494949,\n        9.5959596 ,  9.6969697 ,  9.7979798 ,  9.8989899 , 10.        ])"
     },
     "execution_count": 33,
     "metadata": {},
     "output_type": "execute_result"
    }
   ],
   "source": [
    "np.linspace(0, 10, 100)"
   ],
   "metadata": {
    "collapsed": false,
    "pycharm": {
     "name": "#%%\n"
    }
   }
  },
  {
   "cell_type": "code",
   "execution_count": 38,
   "outputs": [
    {
     "data": {
      "text/plain": "array([1.00000000e+00, 3.59381366e+00, 1.29154967e+01, 4.64158883e+01,\n       1.66810054e+02, 5.99484250e+02, 2.15443469e+03, 7.74263683e+03,\n       2.78255940e+04, 1.00000000e+05])"
     },
     "execution_count": 38,
     "metadata": {},
     "output_type": "execute_result"
    }
   ],
   "source": [
    "np.logspace(0, 5, 10)"
   ],
   "metadata": {
    "collapsed": false,
    "pycharm": {
     "name": "#%%\n"
    }
   }
  },
  {
   "cell_type": "markdown",
   "source": [
    "# 10.14"
   ],
   "metadata": {
    "collapsed": false,
    "pycharm": {
     "name": "#%% md\n"
    }
   }
  },
  {
   "cell_type": "code",
   "execution_count": 47,
   "outputs": [
    {
     "name": "stdout",
     "output_type": "stream",
     "text": [
      "reshape(3, 4):\n",
      " [[ 0  1  2  3]\n",
      " [ 4  5  6  7]\n",
      " [ 8  9 10 11]]\n",
      "reshape(6, -1):\n",
      " [[ 0  1]\n",
      " [ 2  3]\n",
      " [ 4  5]\n",
      " [ 6  7]\n",
      " [ 8  9]\n",
      " [10 11]]\n",
      "reshape(-1, 6):\n",
      " [[ 0  1  2  3  4  5]\n",
      " [ 6  7  8  9 10 11]]\n",
      "flatten: [1 2 3 4 5 6]\n"
     ]
    }
   ],
   "source": [
    "np_array = np.arange(12)\n",
    "\n",
    "print('reshape(3, 4):\\n',np_array.reshape(3, 4))\n",
    "print('reshape(6, -1):\\n',np_array.reshape(6, -1))\n",
    "print('reshape(-1, 6):\\n',np_array.reshape(-1, 6))\n",
    "\n",
    "z = np.array([[1,2,3],\n",
    "             [4,5,6]])\n",
    "\n",
    "print('flatten:', z.flatten())"
   ],
   "metadata": {
    "collapsed": false,
    "pycharm": {
     "name": "#%%\n"
    }
   }
  },
  {
   "cell_type": "markdown",
   "source": [
    "# 10.16"
   ],
   "metadata": {
    "collapsed": false,
    "pycharm": {
     "name": "#%% md\n"
    }
   }
  },
  {
   "cell_type": "code",
   "execution_count": 53,
   "outputs": [
    {
     "name": "stdout",
     "output_type": "stream",
     "text": [
      "rand(5): [0.54340494 0.27836939 0.42451759 0.84477613 0.00471886]\n",
      "rnad(5, 3):\n",
      " [[0.12156912 0.67074908 0.82585276]\n",
      " [0.13670659 0.57509333 0.89132195]\n",
      " [0.20920212 0.18532822 0.10837689]\n",
      " [0.21969749 0.97862378 0.81168315]\n",
      " [0.17194101 0.81622475 0.27407375]]\n",
      "a 부터 b 사이의 난수 5개 생성:  [14.31704184 19.4002982  18.17649379 13.3611195  11.75410454]\n",
      "randint(1, 7, size=10): [4 1 3 2 2 4 3 6 4 1]\n",
      "randint(1, 11, size=(4, 7):\n",
      " [[ 2  1  8  7  3  1  9]\n",
      " [ 3  6  2  9  2  6  5]\n",
      " [ 3  9  4  6  1 10  4]\n",
      " [ 7  4  5  8  7  4 10]]\n"
     ]
    }
   ],
   "source": [
    "np.random.seed(100)\n",
    "\n",
    "print('rand(5):',np.random.rand(5))\n",
    "print('rnad(5, 3):\\n', np.random.rand(5, 3))\n",
    "\n",
    "a = 10\n",
    "b = 20\n",
    "print('a 부터 b 사이의 난수 5개 생성: ', (b - a) * np.random.rand(5) + a)\n",
    "\n",
    "print('randint(1, 7, size=10):', np.random.randint(1, 7, 10))\n",
    "print('randint(1, 11, size=(4, 7):\\n', np.random.randint(1, 11, (4,7)))"
   ],
   "metadata": {
    "collapsed": false,
    "pycharm": {
     "name": "#%%\n"
    }
   }
  },
  {
   "cell_type": "markdown",
   "source": [
    "# 10.17"
   ],
   "metadata": {
    "collapsed": false,
    "pycharm": {
     "name": "#%% md\n"
    }
   }
  },
  {
   "cell_type": "code",
   "execution_count": 57,
   "outputs": [
    {
     "name": "stdout",
     "output_type": "stream",
     "text": [
      "randn(5): [-2.22082499 -0.86549891 -0.11585295  0.11441064 -0.05841747]\n",
      "randn(5, 4):\n",
      " [[ 0.62218721 -1.63857738  0.30287735  2.07687699]\n",
      " [-1.25948997  0.32884473 -1.20982237 -0.44113846]\n",
      " [ 1.68880619 -1.59158143 -0.11039467  1.82400113]\n",
      " [ 0.71039078 -1.74668441 -2.0157135  -0.83736279]\n",
      " [-1.050555   -0.64326693 -0.50219939 -3.00081157]]\n",
      "randoms: \n",
      " [[10.57335769 10.99761517  8.79267782 12.61788217]\n",
      " [12.55181888  7.42801384  8.74848713 10.68342159]\n",
      " [ 9.73845396  7.81670072 10.14907801 12.49649649]\n",
      " [ 9.09931417  9.30495426  9.36501945 12.02590447]\n",
      " [ 8.32360652  7.91735092  9.8254287  12.30617759]]\n"
     ]
    }
   ],
   "source": [
    "print('randn(5):', np.random.randn(5))\n",
    "print('randn(5, 4):\\n', np.random.randn(5, 4))\n",
    "\n",
    "mu = 10\n",
    "sigma = 2\n",
    "randoms = mu + sigma * np.random.randn(5, 4)\n",
    "print('randoms: \\n', randoms)"
   ],
   "metadata": {
    "collapsed": false,
    "pycharm": {
     "name": "#%%\n"
    }
   }
  },
  {
   "cell_type": "markdown",
   "source": [
    "# 도전문제 1"
   ],
   "metadata": {
    "collapsed": false,
    "pycharm": {
     "name": "#%% md\n"
    }
   }
  },
  {
   "cell_type": "code",
   "execution_count": 25,
   "outputs": [
    {
     "name": "stdout",
     "output_type": "stream",
     "text": [
      "[ 11  22  33  44  55  66  77  88  99 110]\n",
      "[ -9 -18 -27 -36 -45 -54 -63 -72 -81 -90]\n",
      "[  10   40   90  160  250  360  490  640  810 1000]\n",
      "[0.1 0.1 0.1 0.1 0.1 0.1 0.1 0.1 0.1 0.1]\n"
     ]
    }
   ],
   "source": [
    "a = np.array(range(1, 11))\n",
    "b = np.array(range(10, 101, 10))\n",
    "\n",
    "print(a + b)\n",
    "print(a - b)\n",
    "print(a * b)\n",
    "print(a / b)"
   ],
   "metadata": {
    "collapsed": false,
    "pycharm": {
     "name": "#%%\n"
    }
   }
  },
  {
   "cell_type": "markdown",
   "source": [
    "# 도전문제 2"
   ],
   "metadata": {
    "collapsed": false,
    "pycharm": {
     "name": "#%% md\n"
    }
   }
  },
  {
   "cell_type": "code",
   "execution_count": 26,
   "outputs": [
    {
     "name": "stdout",
     "output_type": "stream",
     "text": [
      "Shape:  (10,)\n",
      "Size:  10\n",
      "Data:  <memory at 0x00000246D744AA00>\n",
      "Strides:  (4,)\n"
     ]
    }
   ],
   "source": [
    "a = np.array(range(1, 11)) + np.array(range(10, 101, 10))\n",
    "\n",
    "print(\"Shape: \", a.shape)\n",
    "print(\"Size: \", a.size)\n",
    "print(\"Data: \", a.data)\n",
    "print(\"Strides: \", a.strides)"
   ],
   "metadata": {
    "collapsed": false,
    "pycharm": {
     "name": "#%%\n"
    }
   }
  },
  {
   "cell_type": "markdown",
   "source": [
    "# Lab 1"
   ],
   "metadata": {
    "collapsed": false,
    "pycharm": {
     "name": "#%% md\n"
    }
   }
  },
  {
   "cell_type": "code",
   "execution_count": 27,
   "outputs": [
    {
     "name": "stdout",
     "output_type": "stream",
     "text": [
      "실습 1 : array_a = [0 1 2 3 4 5 6 7 8 9]\n",
      "실습 2 : array_b = [0 1 2 3 4 5 6 7 8 9]\n",
      "실습 3 : array_c = [0 2 4 6 8]\n",
      "실습 4:\n",
      "array_c의 shape : (5,)\n",
      "array_c의 ndim : 1\n",
      "array_c의 dtype : int32\n",
      "array_c의 size : 5\n",
      "array_c의 itemsize : 4\n"
     ]
    }
   ],
   "source": [
    "array_a = np.array(range(0, 10))\n",
    "array_b = np.array(range(0, 10))\n",
    "array_c = np.array(range(0, 10, 2))\n",
    "\n",
    "print(\"실습 1 : array_a =\", array_a)\n",
    "print(\"실습 2 : array_b =\", array_b)\n",
    "print(\"실습 3 : array_c =\", array_c)\n",
    "print(\"실습 4:\")\n",
    "print(\"array_c의 shape :\", array_c.shape)\n",
    "print(\"array_c의 ndim :\", array_c.ndim)\n",
    "print(\"array_c의 dtype :\", array_c.dtype)\n",
    "print(\"array_c의 size :\", array_c.size)\n",
    "print(\"array_c의 itemsize :\", array_c.itemsize)"
   ],
   "metadata": {
    "collapsed": false,
    "pycharm": {
     "name": "#%%\n"
    }
   }
  },
  {
   "cell_type": "markdown",
   "source": [
    "# Lab 2"
   ],
   "metadata": {
    "collapsed": false,
    "pycharm": {
     "name": "#%% md\n"
    }
   }
  },
  {
   "cell_type": "code",
   "execution_count": 28,
   "outputs": [
    {
     "name": "stdout",
     "output_type": "stream",
     "text": [
      "대상자들의 키: [1.83 1.76 1.69 1.86 1.77 1.73]\n",
      "대상들의 몸무게: [86 74 59 95 80 68]\n",
      "대상들의 BMI: [25.68007405 23.88946281 20.65754    27.45982194 25.53544639 22.72043837]\n",
      "bmi가 25이상인 경우 출력: [25.68007405 27.45982194 25.53544639]\n"
     ]
    }
   ],
   "source": [
    "heights = [1.83, 1.76, 1.69, 1.86, 1.77, 1.73]\n",
    "weights= [86, 74, 59, 95, 80, 68]\n",
    "\n",
    "np_heights = np.array(heights)\n",
    "np_weights = np.array(weights)\n",
    "\n",
    "bmi = np_weights / (np_heights ** 2)\n",
    "\n",
    "print(\"대상자들의 키:\", np_heights)\n",
    "print(\"대상들의 몸무게:\", np_weights)\n",
    "print(\"대상들의 BMI:\", bmi)\n",
    "\n",
    "print(\"bmi가 25이상인 경우 출력:\", bmi[bmi > 25])"
   ],
   "metadata": {
    "collapsed": false,
    "pycharm": {
     "name": "#%%\n"
    }
   }
  },
  {
   "cell_type": "markdown",
   "source": [
    "# Lab 3"
   ],
   "metadata": {
    "collapsed": false,
    "pycharm": {
     "name": "#%% md\n"
    }
   }
  },
  {
   "cell_type": "code",
   "execution_count": 19,
   "outputs": [
    {
     "name": "stdout",
     "output_type": "stream",
     "text": [
      "['c' 'c' 'c']\n",
      "[[ 8 18 28]\n",
      " [ 9 18 27]]\n"
     ]
    }
   ],
   "source": [
    "import numpy as np\n",
    "\n",
    "x = np.array([['a', 'b', 'c', 'd'],\n",
    "              ['c', 'c', 'g', 'h']])\n",
    "\n",
    "mat_a = np.array([[10, 20, 30], [10, 20, 30]])\n",
    "mat_b = np.array([[2, 2, 2], [1, 2, 3]])\n",
    "\n",
    "print(x[ x == 'c'])\n",
    "print(mat_a - mat_b)"
   ],
   "metadata": {
    "collapsed": false,
    "pycharm": {
     "name": "#%%\n"
    }
   }
  },
  {
   "cell_type": "code",
   "execution_count": 28,
   "outputs": [
    {
     "name": "stdout",
     "output_type": "stream",
     "text": [
      "x shape : (2, 6)\n",
      "y shape : (2, 2)\n",
      "z shape : (1, 6)\n",
      "z value : [[86. 74. 59. 95. 80. 68.]]\n",
      "[25.68007405 23.88946281 20.65754    27.45982194 25.53544639 22.72043837]\n"
     ]
    }
   ],
   "source": [
    "x = np.array([[1.83, 1.76, 1.69, 1.86, 1.77, 1.73],\n",
    "              [86.0, 74.0, 59.0, 95.0, 80.0, 68.0]])\n",
    "y = x[0:2, 1:3]\n",
    "z = x[0:2][1:3]\n",
    "bmi = x[1] / x[0] ** 2\n",
    "\n",
    "print('x shape :', x.shape)\n",
    "print('y shape :', y.shape)\n",
    "print('z shape :', z.shape)\n",
    "print('z value :', z)\n",
    "print(bmi)"
   ],
   "metadata": {
    "collapsed": false,
    "pycharm": {
     "name": "#%%\n"
    }
   }
  },
  {
   "cell_type": "code",
   "execution_count": 32,
   "outputs": [
    {
     "name": "stdout",
     "output_type": "stream",
     "text": [
      "몸무게가 80 이상인 선수 정보\n",
      "[[183.   86.2]\n",
      " [176.   80.1]]\n",
      "키가 180 이상인 선수 정보\n",
      "[[183.   86.2]\n",
      " [181.   78.5]]\n"
     ]
    }
   ],
   "source": [
    "players = [[170, 76.4],\n",
    "           [183, 86.2],\n",
    "           [181, 78.5],\n",
    "           [176, 80.1]]\n",
    "\n",
    "np_players = np.array(players)\n",
    "\n",
    "print('몸무게가 80 이상인 선수 정보')\n",
    "print(np_players[np_players[:, 1] > 80])\n",
    "\n",
    "print('키가 180 이상인 선수 정보')\n",
    "print(np_players[np_players[:, 0] > 180])"
   ],
   "metadata": {
    "collapsed": false,
    "pycharm": {
     "name": "#%%\n"
    }
   }
  },
  {
   "cell_type": "code",
   "execution_count": null,
   "outputs": [],
   "source": [],
   "metadata": {
    "collapsed": false,
    "pycharm": {
     "name": "#%%\n"
    }
   }
  }
 ],
 "metadata": {
  "kernelspec": {
   "display_name": "Python 3",
   "language": "python",
   "name": "python3"
  },
  "language_info": {
   "codemirror_mode": {
    "name": "ipython",
    "version": 2
   },
   "file_extension": ".py",
   "mimetype": "text/x-python",
   "name": "python",
   "nbconvert_exporter": "python",
   "pygments_lexer": "ipython2",
   "version": "2.7.6"
  }
 },
 "nbformat": 4,
 "nbformat_minor": 0
}