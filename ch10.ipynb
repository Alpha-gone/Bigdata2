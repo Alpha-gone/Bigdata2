{
 "cells": [
  {
   "cell_type": "markdown",
   "source": [],
   "metadata": {
    "collapsed": false,
    "pycharm": {
     "name": "#%% md\n"
    }
   }
  },
  {
   "cell_type": "code",
   "source": [
    "import numpy as np\n",
    "\n",
    "mid_scores = np.array([10, 20, 30])\n",
    "final_scores = np.array([60, 70, 80])\n",
    "\n",
    "total = mid_scores + final_scores\n",
    "\n",
    "print(\"시험성적의 합계 :\", total)\n",
    "print(\"시험성적의 평균 :\", total/2)"
   ],
   "metadata": {
    "collapsed": false,
    "pycharm": {
     "name": "#%%\n"
    }
   },
   "execution_count": 20,
   "outputs": [
    {
     "name": "stdout",
     "output_type": "stream",
     "text": [
      "시험성적의 합계 : [ 70  90 110]\n",
      "시험성적의 평균 : [35. 45. 55.]\n"
     ]
    }
   ]
  },
  {
   "cell_type": "markdown",
   "source": [
    "# 10.4"
   ],
   "metadata": {
    "collapsed": false,
    "pycharm": {
     "name": "#%% md\n"
    }
   }
  },
  {
   "cell_type": "code",
   "execution_count": 21,
   "outputs": [
    {
     "name": "stdout",
     "output_type": "stream",
     "text": [
      "Shape (3,)\n",
      "nDim 1\n",
      "dType int32\n",
      "itemSize 4\n",
      "Size 3\n"
     ]
    }
   ],
   "source": [
    "a = np.array([1, 2, 3])\n",
    "\n",
    "print(\"Shape\", a.shape)\n",
    "print(\"nDim\",a.ndim)\n",
    "print(\"dType\",a.dtype)\n",
    "print(\"itemSize\",a.itemsize)\n",
    "print(\"Size\",a.size)"
   ],
   "metadata": {
    "collapsed": false,
    "pycharm": {
     "name": "#%%\n"
    }
   }
  },
  {
   "cell_type": "markdown",
   "source": [
    "# 10.7"
   ],
   "metadata": {
    "collapsed": false,
    "pycharm": {
     "name": "#%% md\n"
    }
   }
  },
  {
   "cell_type": "code",
   "execution_count": 22,
   "outputs": [
    {
     "name": "stdout",
     "output_type": "stream",
     "text": [
      "[False False  True  True  True]\n",
      "[25 30 28]\n"
     ]
    }
   ],
   "source": [
    "ages =np.array([18, 19, 25, 30, 28])\n",
    "\n",
    "y = ages > 20\n",
    "print(y)\n",
    "print(ages[y])"
   ],
   "metadata": {
    "collapsed": false,
    "pycharm": {
     "name": "#%%\n"
    }
   }
  },
  {
   "cell_type": "markdown",
   "source": [
    "# 10.9"
   ],
   "metadata": {
    "collapsed": false,
    "pycharm": {
     "name": "#%% md\n"
    }
   }
  },
  {
   "cell_type": "code",
   "execution_count": 23,
   "outputs": [
    {
     "name": "stdout",
     "output_type": "stream",
     "text": [
      "np_array: [[1 2 3]\n",
      " [4 5 6]\n",
      " [7 8 9]]\n",
      "np_array[0, 2]: 3\n",
      "np_array[0, 0]: 1\n",
      "np_array[2, -1]: 9\n"
     ]
    }
   ],
   "source": [
    "np_array = np.array([[1, 2, 3], [4, 5, 6], [7, 8, 9]])\n",
    "\n",
    "print(\"np_array:\", np_array)\n",
    "print(\"np_array[0, 2]:\", np_array[0, 2])\n",
    "print(\"np_array[0, 0]:\", np_array[0, 0])\n",
    "print(\"np_array[2, -1]:\", np_array[2, -1])\n"
   ],
   "metadata": {
    "collapsed": false,
    "pycharm": {
     "name": "#%%\n"
    }
   }
  },
  {
   "cell_type": "markdown",
   "source": [
    "# 10.10"
   ],
   "metadata": {
    "collapsed": false
   }
  },
  {
   "cell_type": "code",
   "execution_count": 24,
   "outputs": [
    {
     "name": "stdout",
     "output_type": "stream",
     "text": [
      "[[3 4]\n",
      " [7 8]]\n",
      "----------\n",
      "[[1 2 3 4]]\n",
      "[[ 1  3]\n",
      " [ 9 11]]\n"
     ]
    }
   ],
   "source": [
    "np_array = np.array([[1, 2, 3, 4], [5, 6, 7, 8], [9, 10, 11, 12], [13, 14, 15, 16]])\n",
    "\n",
    "print(np_array[0:2, 2:4])\n",
    "print(\"-\" * 10)\n",
    "print(np_array[::2][::2])\n",
    "print(np_array[::2, ::2])"
   ],
   "metadata": {
    "collapsed": false,
    "pycharm": {
     "name": "#%%\n"
    }
   }
  },
  {
   "cell_type": "markdown",
   "source": [
    "# 도전문제 1"
   ],
   "metadata": {
    "collapsed": false,
    "pycharm": {
     "name": "#%% md\n"
    }
   }
  },
  {
   "cell_type": "code",
   "execution_count": 25,
   "outputs": [
    {
     "name": "stdout",
     "output_type": "stream",
     "text": [
      "[ 11  22  33  44  55  66  77  88  99 110]\n",
      "[ -9 -18 -27 -36 -45 -54 -63 -72 -81 -90]\n",
      "[  10   40   90  160  250  360  490  640  810 1000]\n",
      "[0.1 0.1 0.1 0.1 0.1 0.1 0.1 0.1 0.1 0.1]\n"
     ]
    }
   ],
   "source": [
    "a = np.array(range(1, 11))\n",
    "b = np.array(range(10, 101, 10))\n",
    "\n",
    "print(a + b)\n",
    "print(a - b)\n",
    "print(a * b)\n",
    "print(a / b)"
   ],
   "metadata": {
    "collapsed": false,
    "pycharm": {
     "name": "#%%\n"
    }
   }
  },
  {
   "cell_type": "markdown",
   "source": [
    "# 도전문제 2"
   ],
   "metadata": {
    "collapsed": false,
    "pycharm": {
     "name": "#%% md\n"
    }
   }
  },
  {
   "cell_type": "code",
   "execution_count": 26,
   "outputs": [
    {
     "name": "stdout",
     "output_type": "stream",
     "text": [
      "Shape:  (10,)\n",
      "Size:  10\n",
      "Data:  <memory at 0x00000246D744AA00>\n",
      "Strides:  (4,)\n"
     ]
    }
   ],
   "source": [
    "a = np.array(range(1, 11)) + np.array(range(10, 101, 10))\n",
    "\n",
    "print(\"Shape: \", a.shape)\n",
    "print(\"Size: \", a.size)\n",
    "print(\"Data: \", a.data)\n",
    "print(\"Strides: \", a.strides)"
   ],
   "metadata": {
    "collapsed": false,
    "pycharm": {
     "name": "#%%\n"
    }
   }
  },
  {
   "cell_type": "markdown",
   "source": [
    "# Lab 1"
   ],
   "metadata": {
    "collapsed": false,
    "pycharm": {
     "name": "#%% md\n"
    }
   }
  },
  {
   "cell_type": "code",
   "execution_count": 27,
   "outputs": [
    {
     "name": "stdout",
     "output_type": "stream",
     "text": [
      "실습 1 : array_a = [0 1 2 3 4 5 6 7 8 9]\n",
      "실습 2 : array_b = [0 1 2 3 4 5 6 7 8 9]\n",
      "실습 3 : array_c = [0 2 4 6 8]\n",
      "실습 4:\n",
      "array_c의 shape : (5,)\n",
      "array_c의 ndim : 1\n",
      "array_c의 dtype : int32\n",
      "array_c의 size : 5\n",
      "array_c의 itemsize : 4\n"
     ]
    }
   ],
   "source": [
    "array_a = np.array(range(0, 10))\n",
    "array_b = np.array(range(0, 10))\n",
    "array_c = np.array(range(0, 10, 2))\n",
    "\n",
    "print(\"실습 1 : array_a =\", array_a)\n",
    "print(\"실습 2 : array_b =\", array_b)\n",
    "print(\"실습 3 : array_c =\", array_c)\n",
    "print(\"실습 4:\")\n",
    "print(\"array_c의 shape :\", array_c.shape)\n",
    "print(\"array_c의 ndim :\", array_c.ndim)\n",
    "print(\"array_c의 dtype :\", array_c.dtype)\n",
    "print(\"array_c의 size :\", array_c.size)\n",
    "print(\"array_c의 itemsize :\", array_c.itemsize)"
   ],
   "metadata": {
    "collapsed": false,
    "pycharm": {
     "name": "#%%\n"
    }
   }
  },
  {
   "cell_type": "markdown",
   "source": [
    "# Lab 2"
   ],
   "metadata": {
    "collapsed": false,
    "pycharm": {
     "name": "#%% md\n"
    }
   }
  },
  {
   "cell_type": "code",
   "execution_count": 28,
   "outputs": [
    {
     "name": "stdout",
     "output_type": "stream",
     "text": [
      "대상자들의 키: [1.83 1.76 1.69 1.86 1.77 1.73]\n",
      "대상들의 몸무게: [86 74 59 95 80 68]\n",
      "대상들의 BMI: [25.68007405 23.88946281 20.65754    27.45982194 25.53544639 22.72043837]\n",
      "bmi가 25이상인 경우 출력: [25.68007405 27.45982194 25.53544639]\n"
     ]
    }
   ],
   "source": [
    "heights = [1.83, 1.76, 1.69, 1.86, 1.77, 1.73]\n",
    "weights= [86, 74, 59, 95, 80, 68]\n",
    "\n",
    "np_heights = np.array(heights)\n",
    "np_weights = np.array(weights)\n",
    "\n",
    "bmi = np_weights / (np_heights ** 2)\n",
    "\n",
    "print(\"대상자들의 키:\", np_heights)\n",
    "print(\"대상들의 몸무게:\", np_weights)\n",
    "print(\"대상들의 BMI:\", bmi)\n",
    "\n",
    "print(\"bmi가 25이상인 경우 출력:\", bmi[bmi > 25])"
   ],
   "metadata": {
    "collapsed": false,
    "pycharm": {
     "name": "#%%\n"
    }
   }
  }
 ],
 "metadata": {
  "kernelspec": {
   "display_name": "Python 3",
   "language": "python",
   "name": "python3"
  },
  "language_info": {
   "codemirror_mode": {
    "name": "ipython",
    "version": 2
   },
   "file_extension": ".py",
   "mimetype": "text/x-python",
   "name": "python",
   "nbconvert_exporter": "python",
   "pygments_lexer": "ipython2",
   "version": "2.7.6"
  }
 },
 "nbformat": 4,
 "nbformat_minor": 0
}