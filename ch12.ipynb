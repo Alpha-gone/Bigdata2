{
 "cells": [
  {
   "cell_type": "code",
   "execution_count": 1,
   "metadata": {
    "collapsed": true,
    "pycharm": {
     "name": "#%%\n"
    }
   },
   "outputs": [],
   "source": [
    "import csv\n",
    "import matplotlib.pyplot as plt\n",
    "import numpy as np\n",
    "import pandas as pd"
   ]
  },
  {
   "cell_type": "markdown",
   "source": [
    "# 12.4"
   ],
   "metadata": {
    "collapsed": false,
    "pycharm": {
     "name": "#%% md\n"
    }
   }
  },
  {
   "cell_type": "code",
   "execution_count": null,
   "outputs": [],
   "source": [
    "f= open('D:/Study/BIgData2/weather.csv')\n",
    "\n",
    "data = csv.reader(f)\n",
    "\n",
    "for row in data:\n",
    "    print(row)\n",
    "\n",
    "f.close()"
   ],
   "metadata": {
    "collapsed": false,
    "pycharm": {
     "name": "#%%\n"
    }
   }
  },
  {
   "cell_type": "code",
   "execution_count": null,
   "outputs": [],
   "source": [
    "f= open('D:/Study/BIgData2/weather.csv')\n",
    "\n",
    "data = csv.reader(f)\n",
    "header = next(data)\n",
    "\n",
    "for row in data:\n",
    "    print(row)\n",
    "\n",
    "f.close()"
   ],
   "metadata": {
    "collapsed": false,
    "pycharm": {
     "name": "#%%\n"
    }
   }
  },
  {
   "cell_type": "markdown",
   "source": [
    "# 12.5"
   ],
   "metadata": {
    "collapsed": false,
    "pycharm": {
     "name": "#%% md\n"
    }
   }
  },
  {
   "cell_type": "code",
   "execution_count": null,
   "outputs": [],
   "source": [
    "f= open('D:/Study/BigData2/weather.csv')\n",
    "\n",
    "data = csv.reader(f)\n",
    "header = next(data)\n",
    "\n",
    "for row in data:\n",
    "    print(row[3], end= ', ')\n",
    "\n",
    "f.close()"
   ],
   "metadata": {
    "collapsed": false,
    "pycharm": {
     "name": "#%%\n"
    }
   }
  },
  {
   "cell_type": "code",
   "execution_count": null,
   "outputs": [],
   "source": [
    "f= open('D:/Study/BigData2/weather.csv')\n",
    "\n",
    "maxWind = 0.0\n",
    "wind = 0.0\n",
    "\n",
    "data = csv.reader(f)\n",
    "header = next(data)\n",
    "\n",
    "for row in data:\n",
    "    if row[3] == '':\n",
    "        wind = 0\n",
    "    else:\n",
    "        wind = float(row[3])\n",
    "\n",
    "    if maxWind < wind:\n",
    "        maxWind = wind\n",
    "\n",
    "print('지난 10년간 울릉도의 최대 풍속은 ' + str(maxWind) + 'm/s')\n",
    "\n",
    "f.close()"
   ],
   "metadata": {
    "collapsed": false,
    "pycharm": {
     "name": "#%%\n"
    }
   }
  },
  {
   "cell_type": "markdown",
   "source": [
    "# 12.6"
   ],
   "metadata": {
    "collapsed": false,
    "pycharm": {
     "name": "#%% md\n"
    }
   }
  },
  {
   "cell_type": "code",
   "execution_count": null,
   "outputs": [],
   "source": [
    "series = pd.Series([1, 3, 4, np.nan, 6, 8])\n",
    "print(series)"
   ],
   "metadata": {
    "collapsed": false,
    "pycharm": {
     "name": "#%%\n"
    }
   }
  },
  {
   "cell_type": "code",
   "execution_count": null,
   "outputs": [],
   "source": [
    "name_serise = pd.Series(['김수안', '김수정', '박동윤', '강이안', '강지안'])\n",
    "age_serise = pd.Series([19, 23, 22, 19, 16])\n",
    "sex_serise = pd.Series(['여', '여', '남', '여', '남'])\n",
    "grade_serise = pd.Series([4.35, 4.23, 4.25, 4.37, 4.25])\n",
    "\n",
    "print(name_serise)\n",
    "print(age_serise)\n",
    "print(sex_serise)\n",
    "print(grade_serise)"
   ],
   "metadata": {
    "collapsed": false,
    "pycharm": {
     "name": "#%%\n"
    }
   }
  },
  {
   "cell_type": "code",
   "execution_count": null,
   "outputs": [],
   "source": [
    "df = pd.DataFrame({'이름' : name_serise, '나이': age_serise, '성별': sex_serise, '평점': grade_serise})\n",
    "\n",
    "print(df)"
   ],
   "metadata": {
    "collapsed": false,
    "pycharm": {
     "name": "#%%\n"
    }
   }
  },
  {
   "cell_type": "markdown",
   "source": [
    "# 12.7"
   ],
   "metadata": {
    "collapsed": false,
    "pycharm": {
     "name": "#%% md\n"
    }
   }
  },
  {
   "cell_type": "code",
   "execution_count": null,
   "outputs": [],
   "source": [
    "df = pd.read_csv('D:/Study/BigData2/countries.csv')\n",
    "\n",
    "print(df)"
   ],
   "metadata": {
    "collapsed": false,
    "pycharm": {
     "name": "#%%\n"
    }
   }
  },
  {
   "cell_type": "markdown",
   "source": [
    "# 12.9"
   ],
   "metadata": {
    "collapsed": false,
    "pycharm": {
     "name": "#%% md\n"
    }
   }
  },
  {
   "cell_type": "code",
   "execution_count": null,
   "outputs": [],
   "source": [
    "df_my_index = pd.read_csv('D:/Study/BigData2/countries.csv', index_col=0)\n",
    "df_no_index = pd.read_csv('D:/Study/BigData2/countries.csv')\n",
    "\n",
    "print(df_my_index['population'])\n",
    "print(df_no_index['population'])"
   ],
   "metadata": {
    "collapsed": false,
    "pycharm": {
     "name": "#%%\n"
    }
   }
  },
  {
   "cell_type": "code",
   "execution_count": null,
   "outputs": [],
   "source": [
    "df_my_index = pd.read_csv('D:/Study/BigData2/countries.csv', index_col= 0)\n",
    "print(df_my_index[['area', 'population']])"
   ],
   "metadata": {
    "collapsed": false,
    "pycharm": {
     "name": "#%%\n"
    }
   }
  },
  {
   "cell_type": "markdown",
   "source": [
    "# 12.10"
   ],
   "metadata": {
    "collapsed": false,
    "pycharm": {
     "name": "#%% md\n"
    }
   }
  },
  {
   "cell_type": "code",
   "execution_count": null,
   "outputs": [],
   "source": [
    "countries_df = pd.read_csv('D:/Study/BigData2/countries.csv', index_col= 0)\n",
    "\n",
    "#countries_df['population'].plot(kind = 'bar', color = ('b', 'darkorange', 'g', 'r', 'm'))\n",
    "countries_df['population'].plot(kind = 'pie')\n",
    "plt.show()"
   ],
   "metadata": {
    "collapsed": false,
    "pycharm": {
     "name": "#%%\n"
    }
   }
  },
  {
   "cell_type": "code",
   "execution_count": null,
   "outputs": [],
   "source": [
    "weather = pd.read_csv('D:/Study/BigData2/weather.csv', index_col= 0, encoding= 'CP949')\n",
    "\n",
    "weather['평균 풍속(m/s)'].plot(kind='hist', bins=33)\n",
    "plt.show()\n"
   ],
   "metadata": {
    "collapsed": false,
    "pycharm": {
     "name": "#%%\n"
    }
   }
  },
  {
   "cell_type": "markdown",
   "source": [
    "# 12.11"
   ],
   "metadata": {
    "collapsed": false,
    "pycharm": {
     "name": "#%% md\n"
    }
   }
  },
  {
   "cell_type": "code",
   "execution_count": null,
   "outputs": [],
   "source": [
    "countries_df = pd.read_csv('D:/Study/BigData2/countries.csv', index_col= 0)\n",
    "\n",
    "print(countries_df.head())\n",
    "\n",
    "print(countries_df.loc['KR'])\n",
    "\n",
    "print(countries_df['population'][:3])\n",
    "\n",
    "print(countries_df.loc['US', 'capital'])\n",
    "\n",
    "print(countries_df['capital'].loc['US'])"
   ],
   "metadata": {
    "collapsed": false,
    "pycharm": {
     "name": "#%%\n"
    }
   }
  },
  {
   "cell_type": "markdown",
   "source": [
    "# 12.12"
   ],
   "metadata": {
    "collapsed": false,
    "pycharm": {
     "name": "#%% md\n"
    }
   }
  },
  {
   "cell_type": "code",
   "execution_count": null,
   "outputs": [],
   "source": [
    "countries_df = pd.read_csv('D:/Study/BigData2/countries.csv', index_col= 0)\n",
    "\n",
    "countries_df['density'] = countries_df['population'] / countries_df['area']\n",
    "\n",
    "print(countries_df)"
   ],
   "metadata": {
    "collapsed": false,
    "pycharm": {
     "name": "#%%\n"
    }
   }
  },
  {
   "cell_type": "markdown",
   "source": [
    "# 12.13"
   ],
   "metadata": {
    "collapsed": false,
    "pycharm": {
     "name": "#%% md\n"
    }
   }
  },
  {
   "cell_type": "code",
   "execution_count": null,
   "outputs": [],
   "source": [
    "weather = pd.read_csv('D:/Study/BigData2/weather.csv', index_col= 0, encoding= 'CP949')\n",
    "\n",
    "print(weather.describe())\n",
    "print('평균 분석' + '-' * 30)\n",
    "print(weather.mean())\n",
    "print('표준편차 분석' + '-' * 30)\n",
    "print(weather.std())"
   ],
   "metadata": {
    "collapsed": false,
    "pycharm": {
     "name": "#%%\n"
    }
   }
  },
  {
   "cell_type": "markdown",
   "source": [
    "# 12.14"
   ],
   "metadata": {
    "collapsed": false,
    "pycharm": {
     "name": "#%% md\n"
    }
   }
  },
  {
   "cell_type": "code",
   "execution_count": null,
   "outputs": [],
   "source": [
    "weather = pd.read_csv('D:/Study/BigData2/weather.csv', index_col= 0, encoding= 'CP949')\n",
    "\n",
    "print(weather.count())\n",
    "\n",
    "print(weather['최대 풍속(m/s)'].count())\n",
    "\n",
    "print(weather[['최대 풍속(m/s)', '평균 풍속(m/s)']].count())\n",
    "\n",
    "print(weather[['최대 풍속(m/s)', '평균 풍속(m/s)']].mean())\n",
    "\n",
    "print(weather.mean()[['최대 풍속(m/s)', '평균 풍속(m/s)']])"
   ],
   "metadata": {
    "collapsed": false,
    "pycharm": {
     "name": "#%%\n"
    }
   }
  },
  {
   "cell_type": "markdown",
   "source": [
    "# 12.15"
   ],
   "metadata": {
    "collapsed": false,
    "pycharm": {
     "name": "#%% md\n"
    }
   }
  },
  {
   "cell_type": "code",
   "execution_count": null,
   "outputs": [],
   "source": [
    "weather = pd.read_csv('D:/Study/BigData2/weather.csv', encoding= 'CP949')\n",
    "\n",
    "weather['월'] = pd.DatetimeIndex(weather['일시']).month\n",
    "\n",
    "means = weather.groupby('월').mean()\n",
    "sum_data = weather.groupby('월').sum()\n",
    "\n",
    "print(means)\n",
    "print(sum_data)"
   ],
   "metadata": {
    "collapsed": false,
    "pycharm": {
     "name": "#%%\n"
    }
   }
  },
  {
   "cell_type": "markdown",
   "source": [
    "# 12.16"
   ],
   "metadata": {
    "collapsed": false,
    "pycharm": {
     "name": "#%% md\n"
    }
   }
  },
  {
   "cell_type": "code",
   "execution_count": null,
   "outputs": [],
   "source": [
    "weather = pd.read_csv('D:/Study/BigData2/weather.csv', index_col=0, encoding= 'CP949')\n",
    "\n",
    "print(weather['최대 풍속(m/s)'] >= 10.0)\n",
    "\n",
    "print(weather[weather['최대 풍속(m/s)'] >= 10.0])"
   ],
   "metadata": {
    "collapsed": false,
    "pycharm": {
     "name": "#%%\n"
    }
   }
  },
  {
   "cell_type": "markdown",
   "source": [
    "# 12.17"
   ],
   "metadata": {
    "collapsed": false,
    "pycharm": {
     "name": "#%% md\n"
    }
   }
  },
  {
   "cell_type": "code",
   "execution_count": null,
   "outputs": [],
   "source": [
    "weather = pd.read_csv('D:/Study/BigData2/weather.csv', index_col=0, encoding= 'CP949')\n",
    "\n",
    "missing_data = weather[weather['평균 풍속(m/s)'].isna()]\n",
    "\n",
    "print(missing_data)\n",
    "\n",
    "weather.dropna(axis= 0, how= 'any', inplace=True)\n",
    "print(weather.loc['2012-02-11'])"
   ],
   "metadata": {
    "collapsed": false,
    "pycharm": {
     "name": "#%%\n"
    }
   }
  },
  {
   "cell_type": "markdown",
   "source": [
    "# 12.18"
   ],
   "metadata": {
    "collapsed": false,
    "pycharm": {
     "name": "#%% md\n"
    }
   }
  },
  {
   "cell_type": "code",
   "execution_count": null,
   "outputs": [],
   "source": [
    "weather = pd.read_csv('D:/Study/BigData2/weather.csv', index_col=0, encoding= 'CP949')\n",
    "\n",
    "weather.fillna(0,inplace=True)\n",
    "\n",
    "print(weather.loc['2012-02-11'])"
   ],
   "metadata": {
    "collapsed": false,
    "pycharm": {
     "name": "#%%\n"
    }
   }
  },
  {
   "cell_type": "markdown",
   "source": [
    "# 12.19"
   ],
   "metadata": {
    "collapsed": false,
    "pycharm": {
     "name": "#%% md\n"
    }
   }
  },
  {
   "cell_type": "code",
   "execution_count": 2,
   "outputs": [
    {
     "name": "stdout",
     "output_type": "stream",
     "text": [
      "type    Bronze     Gold   Silver\n",
      "item                            \n",
      "ring0      NaN  20000.0  10000.0\n",
      "ring1  30000.0  50000.0      NaN\n"
     ]
    }
   ],
   "source": [
    "df_1 = pd.DataFrame({'item' : ['ring0', 'ring0', 'ring1', 'ring1'],\n",
    "                     'type' : ['Gold', 'Silver', 'Gold', 'Bronze'],\n",
    "                     'price': [20000, 10000, 50000, 30000]})\n",
    "\n",
    "df_2 = df_1.pivot(index='item', columns='type', values='price')\n",
    "print(df_2)"
   ],
   "metadata": {
    "collapsed": false,
    "pycharm": {
     "name": "#%%\n"
    }
   }
  },
  {
   "cell_type": "markdown",
   "source": [
    "# 12.20"
   ],
   "metadata": {
    "collapsed": false,
    "pycharm": {
     "name": "#%% md\n"
    }
   }
  },
  {
   "cell_type": "code",
   "execution_count": 3,
   "outputs": [
    {
     "name": "stdout",
     "output_type": "stream",
     "text": [
      "     A    B    C    D\n",
      "가  a10  b10  c10  NaN\n",
      "나  a11  b11  c11  NaN\n",
      "다  a12  b12  c12  NaN\n",
      "다  NaN  b23  c23  d23\n",
      "라  NaN  b24  c24  d24\n",
      "마  NaN  b25  c25  d25\n"
     ]
    }
   ],
   "source": [
    "df_1 = pd.DataFrame({'A' : ['a10', 'a11', 'a12'],\n",
    "                     'B' : ['b10', 'b11', 'b12'],\n",
    "                     'C' : ['c10', 'c11', 'c12']}, index= ['가', '나', '다'])\n",
    "df_2 = pd.DataFrame({'B' : ['b23', 'b24', 'b25'],\n",
    "                     'C' : ['c23', 'c24', 'c25'],\n",
    "                     'D' : ['d23', 'd24', 'd25']}, index= ['다', '라', '마'])\n",
    "\n",
    "df_3 = pd.concat([df_1, df_2])\n",
    "print(df_3)\n"
   ],
   "metadata": {
    "collapsed": false,
    "pycharm": {
     "name": "#%%\n"
    }
   }
  },
  {
   "cell_type": "markdown",
   "source": [
    "# 12.21"
   ],
   "metadata": {
    "collapsed": false,
    "pycharm": {
     "name": "#%% md\n"
    }
   }
  },
  {
   "cell_type": "code",
   "execution_count": 13,
   "outputs": [
    {
     "name": "stdout",
     "output_type": "stream",
     "text": [
      "     A    B  C_x  C_y    D\n",
      "0  a10  b10  c10  NaN  NaN\n",
      "1  a11  b11  c11  NaN  NaN\n",
      "2  a12  b12  c12  NaN  NaN\n",
      "3  NaN  b23  NaN  c23  d23\n",
      "4  NaN  b24  NaN  c24  d24\n",
      "5  NaN  b25  NaN  c25  d25\n"
     ]
    }
   ],
   "source": [
    "df_1 = pd.DataFrame({'A' : ['a10', 'a11', 'a12'],\n",
    "                     'B' : ['b10', 'b11', 'b12'],\n",
    "                     'C' : ['c10', 'c11', 'c12']}, index= ['가', '나', '다'])\n",
    "df_2 = pd.DataFrame({'B' : ['b23', 'b24', 'b25'],\n",
    "                     'C' : ['c23', 'c24', 'c25'],\n",
    "                     'D' : ['d23', 'd24', 'd25']}, index= ['다', '라', '마'])\n",
    "\n",
    "df_3 = df_1.merge(df_2, how='outer', on='B')\n",
    "print(df_3)"
   ],
   "metadata": {
    "collapsed": false,
    "pycharm": {
     "name": "#%%\n"
    }
   }
  },
  {
   "cell_type": "markdown",
   "source": [
    "# 12.22"
   ],
   "metadata": {
    "collapsed": false,
    "pycharm": {
     "name": "#%% md\n"
    }
   }
  },
  {
   "cell_type": "code",
   "execution_count": 26,
   "outputs": [
    {
     "name": "stdout",
     "output_type": "stream",
     "text": [
      "     A  B_x  C_x  B_y  C_y    D\n",
      "가  a10  b10  c10  NaN  NaN  NaN\n",
      "나  a11  b11  c11  NaN  NaN  NaN\n",
      "다  a12  b12  c12  b23  c23  d23\n",
      "라  NaN  NaN  NaN  b24  c24  d24\n",
      "마  NaN  NaN  NaN  b25  c25  d25\n",
      "     A    B    C    D\n",
      "0  a10  b10  c10  NaN\n",
      "1  a11  b11  c11  NaN\n",
      "2  a12  b12  c12  NaN\n",
      "3  NaN  b23  c23  d23\n",
      "4  NaN  b24  c24  d24\n",
      "5  NaN  b25  c25  d25\n"
     ]
    }
   ],
   "source": [
    "df_1 = pd.DataFrame({'A' : ['a10', 'a11', 'a12'],\n",
    "                     'B' : ['b10', 'b11', 'b12'],\n",
    "                     'C' : ['c10', 'c11', 'c12']}, index= ['가', '나', '다'])\n",
    "df_2 = pd.DataFrame({'B' : ['b23', 'b24', 'b25'],\n",
    "                     'C' : ['c23', 'c24', 'c25'],\n",
    "                     'D' : ['d23', 'd24', 'd25']}, index= ['다', '라', '마'])\n",
    "\n",
    "print(df_1.merge(df_2, how='outer', left_index= True, right_index= True))\n",
    "print(df_1.merge(df_2, how='outer', left_index= False, right_index= False))"
   ],
   "metadata": {
    "collapsed": false,
    "pycharm": {
     "name": "#%%\n"
    }
   }
  },
  {
   "cell_type": "markdown",
   "source": [
    "# 12.23"
   ],
   "metadata": {
    "collapsed": false,
    "pycharm": {
     "name": "#%% md\n"
    }
   }
  },
  {
   "cell_type": "code",
   "execution_count": 45,
   "outputs": [
    {
     "name": "stdout",
     "output_type": "stream",
     "text": [
      "   country      area     capital  population\n",
      "KR   Korea     98480       Seoul    51780579\n",
      "JP   Japan    377835       Tokyo   125960000\n",
      "RU  Russia  17100000      Moscow   146748600\n",
      "US     USA   9629091  Washington   331002825\n",
      "CN   China   9596960     Beijing  1439323688\n",
      "   country      area     capital  population\n",
      "KR   Korea     98480       Seoul    51780579\n",
      "JP   Japan    377835       Tokyo   125960000\n",
      "RU  Russia  17100000      Moscow   146748600\n",
      "US     USA   9629091  Washington   331002825\n",
      "CN   China   9596960     Beijing  1439323688\n",
      "   country      area     capital  population\n",
      "CN   China   9596960     Beijing  1439323688\n",
      "US     USA   9629091  Washington   331002825\n",
      "RU  Russia  17100000      Moscow   146748600\n",
      "JP   Japan    377835       Tokyo   125960000\n",
      "KR   Korea     98480       Seoul    51780579\n"
     ]
    }
   ],
   "source": [
    "countries_df = pd.read_csv('D:/Study/BigData2/countries.csv', index_col= 0)\n",
    "\n",
    "sorted = countries_df.sort_values('population')\n",
    "print(sorted)\n",
    "\n",
    "countries_df.sort_values('population', inplace=True)\n",
    "print(countries_df)\n",
    "\n",
    "countries_df.sort_values(['population', 'area'], ascending= False, inplace= True)\n",
    "print(countries_df)"
   ],
   "metadata": {
    "collapsed": false,
    "pycharm": {
     "name": "#%%\n"
    }
   }
  },
  {
   "cell_type": "markdown",
   "source": [
    "# Lab1"
   ],
   "metadata": {
    "collapsed": false,
    "pycharm": {
     "name": "#%% md\n"
    }
   }
  },
  {
   "cell_type": "code",
   "execution_count": null,
   "outputs": [],
   "source": [
    "f= open('D:/Study/BigData2/weather.csv')\n",
    "\n",
    "wind = 0.0\n",
    "monWind = [0 for _ in range(12)]\n",
    "dayCount = [0 for _ in range(12)]\n",
    "\n",
    "data = csv.reader(f)\n",
    "header = next(data)\n",
    "\n",
    "for row in data:\n",
    "    month = int(row[0][5:7]) - 1\n",
    "\n",
    "    if row[3] != '':\n",
    "        wind = float(row[3])\n",
    "        monWind[month] += wind\n",
    "        dayCount[month] += 1\n",
    "\n",
    "for i in range(12):\n",
    "    monWind[i] /= dayCount[i]\n",
    "\n",
    "plt.plot(monWind)\n",
    "plt.xticks(range(len(monWind)), range(1, 13))\n",
    "plt.show()\n",
    "\n",
    "\n",
    "f.close()"
   ],
   "metadata": {
    "collapsed": false,
    "pycharm": {
     "name": "#%%\n"
    }
   }
  },
  {
   "cell_type": "markdown",
   "source": [
    "# Lab2"
   ],
   "metadata": {
    "collapsed": false,
    "pycharm": {
     "name": "#%% md\n"
    }
   }
  },
  {
   "cell_type": "code",
   "execution_count": null,
   "outputs": [],
   "source": [
    "weather = pd.read_csv('D:/Study/BigData2/weather.csv', encoding= 'CP949')\n",
    "\n",
    "month = [0 for _ in range(12)]\n",
    "monthWind = [0 for _ in range(12)]\n",
    "\n",
    "weather['월'] = pd.DatetimeIndex(weather['일시']).month\n",
    "\n",
    "for i in range(12):\n",
    "    month[i] = weather[weather['월'] == i + 1]\n",
    "    monthWind[i] = month[i].mean()['평균 풍속(m/s)']\n",
    "\n",
    "plt.plot(monthWind, 'red')\n",
    "plt.show()"
   ],
   "metadata": {
    "collapsed": false,
    "pycharm": {
     "name": "#%%\n"
    }
   }
  },
  {
   "cell_type": "markdown",
   "source": [
    "# Lab3"
   ],
   "metadata": {
    "collapsed": false,
    "pycharm": {
     "name": "#%% md\n"
    }
   }
  },
  {
   "cell_type": "code",
   "execution_count": null,
   "outputs": [],
   "source": [
    "weather = pd.read_csv('D:/Study/BigData2/weather.csv', encoding= 'CP949')\n",
    "\n",
    "weather['월'] = pd.DatetimeIndex(weather['일시']).month\n",
    "\n",
    "means = weather.groupby('월').mean()\n",
    "\n",
    "means['평균 풍속(m/s)'].plot(kind='bar', xlabel='월')\n",
    "\n",
    "plt.show()"
   ],
   "metadata": {
    "collapsed": false,
    "pycharm": {
     "name": "#%%\n"
    }
   }
  },
  {
   "cell_type": "markdown",
   "source": [
    "# Lab4"
   ],
   "metadata": {
    "collapsed": false,
    "pycharm": {
     "name": "#%% md\n"
    }
   }
  },
  {
   "cell_type": "code",
   "execution_count": 4,
   "outputs": [
    {
     "name": "stdout",
     "output_type": "stream",
     "text": [
      "     A    B    C    D\n",
      "가  a10  b10  c10  NaN\n",
      "나  a11  b11  c11  NaN\n",
      "다  a12  b12  c12  NaN\n",
      "다  NaN  b23  c23  d23\n",
      "라  NaN  b24  c24  d24\n",
      "마  NaN  b25  c25  d25\n",
      "     B    C\n",
      "가  b10  c10\n",
      "나  b11  c11\n",
      "다  b12  c12\n",
      "다  b23  c23\n",
      "라  b24  c24\n",
      "마  b25  c25\n",
      "     A    B    C    B    C    D\n",
      "가  a10  b10  c10  NaN  NaN  NaN\n",
      "나  a11  b11  c11  NaN  NaN  NaN\n",
      "다  a12  b12  c12  b23  c23  d23\n",
      "라  NaN  NaN  NaN  b24  c24  d24\n",
      "마  NaN  NaN  NaN  b25  c25  d25\n",
      "     A    B    C    B    C    D\n",
      "다  a12  b12  c12  b23  c23  d23\n"
     ]
    }
   ],
   "source": [
    "df_1 = pd.DataFrame({'A' : ['a10', 'a11', 'a12'],\n",
    "                     'B' : ['b10', 'b11', 'b12'],\n",
    "                     'C' : ['c10', 'c11', 'c12']}, index= ['가', '나', '다'])\n",
    "df_2 = pd.DataFrame({'B' : ['b23', 'b24', 'b25'],\n",
    "                     'C' : ['c23', 'c24', 'c25'],\n",
    "                     'D' : ['d23', 'd24', 'd25']}, index= ['다', '라', '마'])\n",
    "\n",
    "print(pd.concat([df_1, df_2]))\n",
    "print(pd.concat([df_1, df_2], axis=0, join='inner'))\n",
    "print(pd.concat([df_1, df_2], axis=1, join='outer'))\n",
    "print(pd.concat([df_1, df_2], axis=1, join='inner'))"
   ],
   "metadata": {
    "collapsed": false,
    "pycharm": {
     "name": "#%%\n"
    }
   }
  },
  {
   "cell_type": "markdown",
   "source": [
    "# Lab5"
   ],
   "metadata": {
    "collapsed": false,
    "pycharm": {
     "name": "#%% md\n"
    }
   }
  },
  {
   "cell_type": "code",
   "execution_count": 14,
   "outputs": [
    {
     "name": "stdout",
     "output_type": "stream",
     "text": [
      "left outer\n",
      "      A    B  C_x  C_y    D\n",
      "0  a10  b10  c10  NaN  NaN\n",
      "1  a11  b11  c11  NaN  NaN\n",
      "2  a12  b12  c12  NaN  NaN\n",
      "right outer\n",
      "      A    B  C_x  C_y    D\n",
      "0  NaN  b23  NaN  c23  d23\n",
      "1  NaN  b24  NaN  c24  d24\n",
      "2  NaN  b25  NaN  c25  d25\n",
      "full outer\n",
      "      A    B  C_x  C_y    D\n",
      "0  a10  b10  c10  NaN  NaN\n",
      "1  a11  b11  c11  NaN  NaN\n",
      "2  a12  b12  c12  NaN  NaN\n",
      "3  NaN  b23  NaN  c23  d23\n",
      "4  NaN  b24  NaN  c24  d24\n",
      "5  NaN  b25  NaN  c25  d25\n",
      "left\n",
      " Empty DataFrame\n",
      "Columns: [A, B, C_x, C_y, D]\n",
      "Index: []\n"
     ]
    }
   ],
   "source": [
    "df_1 = pd.DataFrame({'A' : ['a10', 'a11', 'a12'],\n",
    "                     'B' : ['b10', 'b11', 'b12'],\n",
    "                     'C' : ['c10', 'c11', 'c12']}, index= ['가', '나', '다'])\n",
    "df_2 = pd.DataFrame({'B' : ['b23', 'b24', 'b25'],\n",
    "                     'C' : ['c23', 'c24', 'c25'],\n",
    "                     'D' : ['d23', 'd24', 'd25']}, index= ['다', '라', '마'])\n",
    "\n",
    "print('left outer\\n', df_1.merge(df_2, how='left', on='B'))\n",
    "print('right outer\\n', df_1.merge(df_2, how='right', on='B'))\n",
    "print('full outer\\n', df_1.merge(df_2, how='outer', on='B'))\n",
    "print('left\\n', df_1.merge(df_2, how='inner', on='B'))"
   ],
   "metadata": {
    "collapsed": false,
    "pycharm": {
     "name": "#%%\n"
    }
   }
  }
 ],
 "metadata": {
  "kernelspec": {
   "display_name": "Python 3",
   "language": "python",
   "name": "python3"
  },
  "language_info": {
   "codemirror_mode": {
    "name": "ipython",
    "version": 2
   },
   "file_extension": ".py",
   "mimetype": "text/x-python",
   "name": "python",
   "nbconvert_exporter": "python",
   "pygments_lexer": "ipython2",
   "version": "2.7.6"
  }
 },
 "nbformat": 4,
 "nbformat_minor": 0
}